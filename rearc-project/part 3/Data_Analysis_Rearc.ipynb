{
 "cells": [
  {
   "cell_type": "code",
   "execution_count": 0,
   "metadata": {
    "application/vnd.databricks.v1+cell": {
     "cellMetadata": {
      "byteLimit": 2048000,
      "rowLimit": 10000
     },
     "inputWidgets": {},
     "nuid": "19116799-c346-4861-a684-c02444b39daf",
     "showTitle": false,
     "tableResultSettingsMap": {},
     "title": ""
    }
   },
   "outputs": [
    {
     "name": "stdout",
     "output_type": "stream",
     "text": [
      "Python interpreter will be restarted.\n",
      "Requirement already satisfied: fsspec in /local_disk0/.ephemeral_nfs/envs/pythonEnv-f61a24d7-a239-4ae5-9ef4-4b60e268afc9/lib/python3.9/site-packages (2025.5.1)\n",
      "Python interpreter will be restarted.\n",
      "Python interpreter will be restarted.\n",
      "Requirement already satisfied: s3fs in /local_disk0/.ephemeral_nfs/envs/pythonEnv-f61a24d7-a239-4ae5-9ef4-4b60e268afc9/lib/python3.9/site-packages (2025.5.1)\n",
      "Requirement already satisfied: fsspec==2025.5.1 in /local_disk0/.ephemeral_nfs/envs/pythonEnv-f61a24d7-a239-4ae5-9ef4-4b60e268afc9/lib/python3.9/site-packages (from s3fs) (2025.5.1)\n",
      "Requirement already satisfied: aiobotocore<3.0.0,>=2.5.4 in /local_disk0/.ephemeral_nfs/envs/pythonEnv-f61a24d7-a239-4ae5-9ef4-4b60e268afc9/lib/python3.9/site-packages (from s3fs) (2.22.0)\n",
      "Requirement already satisfied: aiohttp!=4.0.0a0,!=4.0.0a1 in /local_disk0/.ephemeral_nfs/envs/pythonEnv-f61a24d7-a239-4ae5-9ef4-4b60e268afc9/lib/python3.9/site-packages (from s3fs) (3.12.9)\n",
      "Requirement already satisfied: botocore<1.37.4,>=1.37.2 in /local_disk0/.ephemeral_nfs/envs/pythonEnv-f61a24d7-a239-4ae5-9ef4-4b60e268afc9/lib/python3.9/site-packages (from aiobotocore<3.0.0,>=2.5.4->s3fs) (1.37.3)\n",
      "Requirement already satisfied: wrapt<2.0.0,>=1.10.10 in /local_disk0/.ephemeral_nfs/envs/pythonEnv-f61a24d7-a239-4ae5-9ef4-4b60e268afc9/lib/python3.9/site-packages (from aiobotocore<3.0.0,>=2.5.4->s3fs) (1.17.2)\n",
      "Requirement already satisfied: jmespath<2.0.0,>=0.7.1 in /databricks/python3/lib/python3.9/site-packages (from aiobotocore<3.0.0,>=2.5.4->s3fs) (0.10.0)\n",
      "Requirement already satisfied: python-dateutil<3.0.0,>=2.1 in /databricks/python3/lib/python3.9/site-packages (from aiobotocore<3.0.0,>=2.5.4->s3fs) (2.8.2)\n",
      "Requirement already satisfied: aioitertools<1.0.0,>=0.5.1 in /local_disk0/.ephemeral_nfs/envs/pythonEnv-f61a24d7-a239-4ae5-9ef4-4b60e268afc9/lib/python3.9/site-packages (from aiobotocore<3.0.0,>=2.5.4->s3fs) (0.12.0)\n",
      "Requirement already satisfied: multidict<7.0.0,>=6.0.0 in /local_disk0/.ephemeral_nfs/envs/pythonEnv-f61a24d7-a239-4ae5-9ef4-4b60e268afc9/lib/python3.9/site-packages (from aiobotocore<3.0.0,>=2.5.4->s3fs) (6.4.4)\n",
      "Requirement already satisfied: frozenlist>=1.1.1 in /local_disk0/.ephemeral_nfs/envs/pythonEnv-f61a24d7-a239-4ae5-9ef4-4b60e268afc9/lib/python3.9/site-packages (from aiohttp!=4.0.0a0,!=4.0.0a1->s3fs) (1.6.2)\n",
      "Requirement already satisfied: aiosignal>=1.1.2 in /local_disk0/.ephemeral_nfs/envs/pythonEnv-f61a24d7-a239-4ae5-9ef4-4b60e268afc9/lib/python3.9/site-packages (from aiohttp!=4.0.0a0,!=4.0.0a1->s3fs) (1.3.2)\n",
      "Requirement already satisfied: attrs>=17.3.0 in /databricks/python3/lib/python3.9/site-packages (from aiohttp!=4.0.0a0,!=4.0.0a1->s3fs) (21.4.0)\n",
      "Requirement already satisfied: yarl<2.0,>=1.17.0 in /local_disk0/.ephemeral_nfs/envs/pythonEnv-f61a24d7-a239-4ae5-9ef4-4b60e268afc9/lib/python3.9/site-packages (from aiohttp!=4.0.0a0,!=4.0.0a1->s3fs) (1.20.0)\n",
      "Requirement already satisfied: async-timeout<6.0,>=4.0 in /local_disk0/.ephemeral_nfs/envs/pythonEnv-f61a24d7-a239-4ae5-9ef4-4b60e268afc9/lib/python3.9/site-packages (from aiohttp!=4.0.0a0,!=4.0.0a1->s3fs) (5.0.1)\n",
      "Requirement already satisfied: aiohappyeyeballs>=2.5.0 in /local_disk0/.ephemeral_nfs/envs/pythonEnv-f61a24d7-a239-4ae5-9ef4-4b60e268afc9/lib/python3.9/site-packages (from aiohttp!=4.0.0a0,!=4.0.0a1->s3fs) (2.6.1)\n",
      "Requirement already satisfied: propcache>=0.2.0 in /local_disk0/.ephemeral_nfs/envs/pythonEnv-f61a24d7-a239-4ae5-9ef4-4b60e268afc9/lib/python3.9/site-packages (from aiohttp!=4.0.0a0,!=4.0.0a1->s3fs) (0.3.1)\n",
      "Requirement already satisfied: typing_extensions>=4.0 in /databricks/python3/lib/python3.9/site-packages (from aioitertools<1.0.0,>=0.5.1->aiobotocore<3.0.0,>=2.5.4->s3fs) (4.1.1)\n",
      "Requirement already satisfied: urllib3<1.27,>=1.25.4 in /databricks/python3/lib/python3.9/site-packages (from botocore<1.37.4,>=1.37.2->aiobotocore<3.0.0,>=2.5.4->s3fs) (1.26.9)\n",
      "Requirement already satisfied: six>=1.5 in /databricks/python3/lib/python3.9/site-packages (from python-dateutil<3.0.0,>=2.1->aiobotocore<3.0.0,>=2.5.4->s3fs) (1.16.0)\n",
      "Requirement already satisfied: idna>=2.0 in /databricks/python3/lib/python3.9/site-packages (from yarl<2.0,>=1.17.0->aiohttp!=4.0.0a0,!=4.0.0a1->s3fs) (3.3)\n",
      "Python interpreter will be restarted.\n"
     ]
    }
   ],
   "source": [
    "%pip install fsspec\n",
    "%pip install s3fs"
   ]
  },
  {
   "cell_type": "code",
   "execution_count": 0,
   "metadata": {
    "application/vnd.databricks.v1+cell": {
     "cellMetadata": {
      "byteLimit": 2048000,
      "rowLimit": 10000
     },
     "inputWidgets": {},
     "nuid": "d056ad31-d1b5-4b5d-9adf-ca3ba743970f",
     "showTitle": false,
     "tableResultSettingsMap": {},
     "title": ""
    }
   },
   "outputs": [
    {
     "data": {
      "application/vnd.databricks.v1+bamboolib_hint": "{\"pd.DataFrames\": [], \"version\": \"0.0.1\"}",
      "text/plain": []
     },
     "metadata": {},
     "output_type": "display_data"
    }
   ],
   "source": [
    "from pyspark.sql import SparkSession\n",
    "from pyspark.sql.functions import col, avg, stddev,mean, sum as _sum, row_number, lower, round\n",
    "import requests\n",
    "import pandas as pd\n",
    "import boto3\n",
    "from pyspark.sql.window import Window"
   ]
  },
  {
   "cell_type": "code",
   "execution_count": 0,
   "metadata": {
    "application/vnd.databricks.v1+cell": {
     "cellMetadata": {
      "byteLimit": 2048000,
      "rowLimit": 10000
     },
     "inputWidgets": {},
     "nuid": "fcb5831f-73ac-4153-8e0a-ae19fb336d38",
     "showTitle": false,
     "tableResultSettingsMap": {},
     "title": ""
    }
   },
   "outputs": [],
   "source": [
    "# Step 1: Start Spark session\n",
    "spark = SparkSession.builder \\\n",
    "    .appName(\"PopulationAnalysis\") \\\n",
    "    .getOrCreate()"
   ]
  },
  {
   "cell_type": "code",
   "execution_count": 0,
   "metadata": {
    "application/vnd.databricks.v1+cell": {
     "cellMetadata": {
      "byteLimit": 2048000,
      "rowLimit": 10000
     },
     "inputWidgets": {},
     "nuid": "4da139a0-27a5-4297-9574-001d9e61754f",
     "showTitle": false,
     "tableResultSettingsMap": {},
     "title": ""
    }
   },
   "outputs": [],
   "source": [
    "s3 = boto3.client(\n",
    "    's3',\n",
    "    aws_access_key_id='ACCESS_KEY',\n",
    "    aws_secret_access_key='SECRET_ACCESS_KEY',\n",
    "    region_name='ap-south-1'\n",
    ")"
   ]
  },
  {
   "cell_type": "markdown",
   "metadata": {
    "application/vnd.databricks.v1+cell": {
     "cellMetadata": {
      "byteLimit": 2048000,
      "rowLimit": 10000
     },
     "inputWidgets": {},
     "nuid": "bb7305a3-dd30-4bf3-8a1e-39b88eabba57",
     "showTitle": false,
     "tableResultSettingsMap": {},
     "title": ""
    }
   },
   "source": [
    "## **Step 0:**\n",
    "Load both the csv file from Part 1 pr.data.0.Current and the json file from Part 2 as dataframes (Spark, Pyspark, Pandas, Koalas, etc)."
   ]
  },
  {
   "cell_type": "code",
   "execution_count": 0,
   "metadata": {
    "application/vnd.databricks.v1+cell": {
     "cellMetadata": {
      "byteLimit": 2048000,
      "rowLimit": 10000
     },
     "inputWidgets": {},
     "nuid": "1d3973ef-eb84-4219-b0fe-ff8bf4f02993",
     "showTitle": false,
     "tableResultSettingsMap": {},
     "title": ""
    }
   },
   "outputs": [
    {
     "name": "stdout",
     "output_type": "stream",
     "text": [
      "Series Data:\n",
      "+-----------------+----+------+------------+--------------+\n",
      "|series_id        |year|period|       value|footnote_codes|\n",
      "+-----------------+----+------+------------+--------------+\n",
      "|PRS30006011      |1995|   Q01|         2.6|          null|\n",
      "|PRS30006011      |1995|   Q02|         2.1|          null|\n",
      "|PRS30006011      |1995|   Q03|         0.9|          null|\n",
      "|PRS30006011      |1995|   Q04|         0.1|          null|\n",
      "|PRS30006011      |1995|   Q05|         1.4|          null|\n",
      "+-----------------+----+------+------------+--------------+\n",
      "only showing top 5 rows\n",
      "\n",
      "Population Data:\n",
      "+---------+-------------+-------+----+----------+-------------+\n",
      "|ID Nation|       Nation|ID Year|Year|Population|  Slug Nation|\n",
      "+---------+-------------+-------+----+----------+-------------+\n",
      "|  01000US|United States|   2023|2023| 332387540|united-states|\n",
      "|  01000US|United States|   2022|2022| 331097593|united-states|\n",
      "|  01000US|United States|   2021|2021| 329725481|united-states|\n",
      "|  01000US|United States|   2020|2020| 326569308|united-states|\n",
      "|  01000US|United States|   2019|2019| 324697795|united-states|\n",
      "+---------+-------------+-------+----+----------+-------------+\n",
      "only showing top 5 rows\n",
      "\n"
     ]
    }
   ],
   "source": [
    "# Data sources\n",
    "SERIES_DATA = \"s3://rerac-quest-s3-bucket/pr.data.0.Current\"\n",
    "POPULATION_DATA = \"https://rerac-quest-s3-bucket.amazonaws.com/population.json\"\n",
    "\n",
    "#Load Data\n",
    "series_pd = pd.read_csv(SERIES_DATA, delimiter=\"\\t\")\n",
    "series_df = spark.createDataFrame(series_pd)\n",
    "\n",
    "# Load population JSON data\n",
    "population_json = requests.get(POPULATION_DATA).json()\n",
    "population_pd = pd.json_normalize(population_json, record_path=\"data\")\n",
    "population_df = spark.createDataFrame(population_pd)\n",
    "\n",
    "print(\"Series Data:\")\n",
    "series_df.show(5)\n",
    "\n",
    "print(\"Population Data:\")\n",
    "population_df.show(5)\n"
   ]
  },
  {
   "cell_type": "markdown",
   "metadata": {
    "application/vnd.databricks.v1+cell": {
     "cellMetadata": {
      "byteLimit": 2048000,
      "rowLimit": 10000
     },
     "inputWidgets": {},
     "nuid": "d6fc20b8-65ba-4749-97a8-01a765dcda68",
     "showTitle": false,
     "tableResultSettingsMap": {},
     "title": ""
    }
   },
   "source": [
    "## Step 1:\n",
    "Using the dataframe from the population data API (Part 2), generate the mean and the standard deviation of the annual US population across the years [2013, 2018] inclusive."
   ]
  },
  {
   "cell_type": "code",
   "execution_count": 0,
   "metadata": {
    "application/vnd.databricks.v1+cell": {
     "cellMetadata": {
      "byteLimit": 2048000,
      "rowLimit": 10000
     },
     "inputWidgets": {},
     "nuid": "9b8ce8fc-43e1-4926-979d-4b6f5f8d5dcf",
     "showTitle": false,
     "tableResultSettingsMap": {},
     "title": ""
    }
   },
   "outputs": [
    {
     "name": "stdout",
     "output_type": "stream",
     "text": [
      "Mean Population: 317437383.0\n",
      "Standard Deviation of Population: 4257089.5415293295\n"
     ]
    }
   ],
   "source": [
    "population_filtered = population_df.filter(\n",
    "    (col(\"Year\").cast(\"int\") >= 2013) & (col(\"Year\").cast(\"int\") <= 2018)\n",
    ")\n",
    "\n",
    "# Calculate mean and standard deviation of Population column\n",
    "stats = population_filtered.select(\n",
    "    mean(col(\"Population\")).alias(\"mean_population\"),\n",
    "    stddev(col(\"Population\")).alias(\"stddev_population\")\n",
    ").collect()[0]\n",
    "\n",
    "print(f\"Mean Population: {stats['mean_population']}\")\n",
    "print(f\"Standard Deviation of Population: {stats['stddev_population']}\")\n"
   ]
  },
  {
   "cell_type": "markdown",
   "metadata": {
    "application/vnd.databricks.v1+cell": {
     "cellMetadata": {
      "byteLimit": 2048000,
      "rowLimit": 10000
     },
     "inputWidgets": {},
     "nuid": "73468334-ce8b-430d-986a-6be11f159f3f",
     "showTitle": false,
     "tableResultSettingsMap": {},
     "title": ""
    }
   },
   "source": [
    "## Step 2:\n",
    "Using the dataframe from the time-series (Part 1), For every series_id, find the best year: the year with the max/largest sum of \"value\" for all quarters in that year. Generate a report with each series id, the best year for that series, and the summed value for that year."
   ]
  },
  {
   "cell_type": "code",
   "execution_count": 0,
   "metadata": {
    "application/vnd.databricks.v1+cell": {
     "cellMetadata": {
      "byteLimit": 2048000,
      "rowLimit": 10000
     },
     "inputWidgets": {},
     "nuid": "33164f90-e57a-48d9-96a9-299fdfa5e633",
     "showTitle": false,
     "tableResultSettingsMap": {},
     "title": ""
    }
   },
   "outputs": [
    {
     "name": "stdout",
     "output_type": "stream",
     "text": [
      "+-----------------+----+-----------+\n",
      "|        series_id|year|total_value|\n",
      "+-----------------+----+-----------+\n",
      "|PRS30006011      |2022|       20.5|\n",
      "|PRS30006012      |2022|       17.1|\n",
      "|PRS30006013      |1998|      705.9|\n",
      "|PRS30006021      |2010|       17.7|\n",
      "|PRS30006022      |2010|       12.4|\n",
      "|PRS30006023      |2014|     503.22|\n",
      "|PRS30006031      |2022|       20.5|\n",
      "|PRS30006032      |2021|       17.1|\n",
      "|PRS30006033      |1998|     702.67|\n",
      "|PRS30006061      |2022|       37.0|\n",
      "|PRS30006062      |2021|       31.6|\n",
      "|PRS30006063      |2024|     647.52|\n",
      "|PRS30006081      |2021|       24.4|\n",
      "|PRS30006082      |2021|       24.4|\n",
      "|PRS30006083      |2021|     110.74|\n",
      "|PRS30006091      |2002|       43.3|\n",
      "|PRS30006092      |2002|       44.4|\n",
      "|PRS30006093      |2013|     514.16|\n",
      "|PRS30006101      |2020|       33.5|\n",
      "|PRS30006102      |2020|       36.2|\n",
      "+-----------------+----+-----------+\n",
      "only showing top 20 rows\n",
      "\n"
     ]
    }
   ],
   "source": [
    "series_df = series_df \\\n",
    "    .withColumnRenamed(\"series_id        \", \"series_id\") \\\n",
    "    .withColumnRenamed(\"       value\", \"value\")\n",
    "\n",
    "grouped_df = series_df.groupBy(\"series_id\", \"year\").agg(_sum(\"value\").alias(\"total_value\"))\n",
    "\n",
    "grouped_df = grouped_df.withColumn(\"total_value\", round(col(\"total_value\"), 2))\n",
    "\n",
    "window_spec = Window.partitionBy(\"series_id\").orderBy(col(\"total_value\").desc())\n",
    "\n",
    "ranked_df = grouped_df.withColumn(\"rank\", row_number().over(window_spec))\n",
    "\n",
    "max_value_series = ranked_df.filter(col(\"rank\") == 1).drop(\"rank\")\n",
    "\n",
    "max_value_series = max_value_series.orderBy(\"series_id\")\n",
    "\n",
    "max_value_series.show()"
   ]
  },
  {
   "cell_type": "markdown",
   "metadata": {
    "application/vnd.databricks.v1+cell": {
     "cellMetadata": {
      "byteLimit": 2048000,
      "rowLimit": 10000
     },
     "inputWidgets": {},
     "nuid": "735b3dd8-d61f-4e1c-9f8a-cc4e578370dc",
     "showTitle": false,
     "tableResultSettingsMap": {},
     "title": ""
    }
   },
   "source": [
    "## Step 3:\n",
    "Using both dataframes from Part 1 and Part 2, generate a report that will provide the value for series_id = PRS30006032 and period = Q01 and the population for that given year (if available in the population dataset)."
   ]
  },
  {
   "cell_type": "code",
   "execution_count": 0,
   "metadata": {
    "application/vnd.databricks.v1+cell": {
     "cellMetadata": {
      "byteLimit": 2048000,
      "rowLimit": 10000
     },
     "inputWidgets": {},
     "nuid": "1d1b1ad5-bb8b-4e46-b64c-d8efcaddf71b",
     "showTitle": false,
     "tableResultSettingsMap": {},
     "title": ""
    }
   },
   "outputs": [
    {
     "name": "stdout",
     "output_type": "stream",
     "text": [
      "+-----------------+----+------+-----+----------+\n",
      "|        series_id|year|period|value|Population|\n",
      "+-----------------+----+------+-----+----------+\n",
      "|PRS30006032      |1995|   Q01|  0.0|      null|\n",
      "|PRS30006032      |1996|   Q01| -4.2|      null|\n",
      "|PRS30006032      |1997|   Q01|  2.8|      null|\n",
      "|PRS30006032      |1998|   Q01|  0.9|      null|\n",
      "|PRS30006032      |1999|   Q01| -4.1|      null|\n",
      "|PRS30006032      |2000|   Q01|  0.5|      null|\n",
      "|PRS30006032      |2001|   Q01| -6.3|      null|\n",
      "|PRS30006032      |2002|   Q01| -6.6|      null|\n",
      "|PRS30006032      |2003|   Q01| -5.7|      null|\n",
      "|PRS30006032      |2004|   Q01|  2.0|      null|\n",
      "|PRS30006032      |2005|   Q01| -0.5|      null|\n",
      "|PRS30006032      |2006|   Q01|  1.8|      null|\n",
      "|PRS30006032      |2007|   Q01| -0.8|      null|\n",
      "|PRS30006032      |2008|   Q01| -3.5|      null|\n",
      "|PRS30006032      |2009|   Q01|-21.0|      null|\n",
      "|PRS30006032      |2010|   Q01|  3.2|      null|\n",
      "|PRS30006032      |2011|   Q01|  1.5|      null|\n",
      "|PRS30006032      |2012|   Q01|  2.5|      null|\n",
      "|PRS30006032      |2013|   Q01|  0.5| 311536594|\n",
      "|PRS30006032      |2014|   Q01| -0.1| 314107084|\n",
      "|PRS30006032      |2015|   Q01| -1.7| 316515021|\n",
      "|PRS30006032      |2016|   Q01| -1.4| 318558162|\n",
      "|PRS30006032      |2017|   Q01|  0.9| 321004407|\n",
      "|PRS30006032      |2018|   Q01|  0.5| 322903030|\n",
      "|PRS30006032      |2019|   Q01| -1.6| 324697795|\n",
      "|PRS30006032      |2020|   Q01| -7.0| 326569308|\n",
      "|PRS30006032      |2021|   Q01|  0.7| 329725481|\n",
      "|PRS30006032      |2022|   Q01|  5.3| 331097593|\n",
      "|PRS30006032      |2023|   Q01|  0.3| 332387540|\n",
      "|PRS30006032      |2024|   Q01| -0.7|      null|\n",
      "|PRS30006032      |2025|   Q01|  0.5|      null|\n",
      "+-----------------+----+------+-----+----------+\n",
      "\n"
     ]
    }
   ],
   "source": [
    "specific_series = series_df.filter(lower(col(\"series_id\")).contains(\"prs30006032\"))\n",
    "\n",
    "specific_series = specific_series.filter(lower(col(\"period\")).contains(\"q01\"))\n",
    "\n",
    "population_df = population_df.withColumn(\"Population\", col(\"Population\").cast(\"int\")) \\\n",
    "                             .withColumn(\"Year\", col(\"Year\").cast(\"int\"))\n",
    "\n",
    "result = specific_series.join(population_df, specific_series.year == population_df.Year, \"left\")\n",
    "\n",
    "result.select(\"series_id\", specific_series[\"year\"], \"period\", \"value\", \"Population\").show(100)\n"
   ]
  },
  {
   "cell_type": "code",
   "execution_count": 0,
   "metadata": {
    "application/vnd.databricks.v1+cell": {
     "cellMetadata": {
      "byteLimit": 2048000,
      "rowLimit": 10000
     },
     "inputWidgets": {},
     "nuid": "d981e8f8-559d-437d-bb9b-a67e5f097335",
     "showTitle": false,
     "tableResultSettingsMap": {},
     "title": ""
    }
   },
   "outputs": [],
   "source": [
    "spark.stop()"
   ]
  },
  {
   "cell_type": "code",
   "execution_count": 0,
   "metadata": {
    "application/vnd.databricks.v1+cell": {
     "cellMetadata": {
      "byteLimit": 2048000,
      "rowLimit": 10000
     },
     "inputWidgets": {},
     "nuid": "ee62e61e-b28d-433d-a1a9-547f24697908",
     "showTitle": false,
     "tableResultSettingsMap": {},
     "title": ""
    }
   },
   "outputs": [],
   "source": []
  }
 ],
 "metadata": {
  "application/vnd.databricks.v1+notebook": {
   "computePreferences": null,
   "dashboards": [],
   "environmentMetadata": {
    "base_environment": "",
    "environment_version": "1"
   },
   "inputWidgetPreferences": null,
   "language": "python",
   "notebookMetadata": {
    "pythonIndentUnit": 4
   },
   "notebookName": "Untitled Notebook 2025-06-05 13:57:37",
   "widgets": {}
  },
  "language_info": {
   "name": "python"
  }
 },
 "nbformat": 4,
 "nbformat_minor": 0
}
